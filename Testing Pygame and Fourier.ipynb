{
 "cells": [
  {
   "cell_type": "code",
   "execution_count": 19,
   "metadata": {},
   "outputs": [
    {
     "ename": "SystemExit",
     "evalue": "",
     "output_type": "error",
     "traceback": [
      "An exception has occurred, use %tb to see the full traceback.\n",
      "\u001b[1;31mSystemExit\u001b[0m\n"
     ]
    }
   ],
   "source": [
    "import pygame\n",
    "import math\n",
    "import sys\n",
    "import numpy\n",
    "import time\n",
    "\n",
    "#define screen resolution and origin\n",
    "res_w, res_h = 1920, 1080\n",
    "origin_x = res_w//2\n",
    "origin_y = res_h//2\n",
    "\n",
    "#initialize pygame screen and clock\n",
    "pygame.init()\n",
    "pygame.font.init()\n",
    "screen = pygame.display.set_mode((res_w, res_h))\n",
    "font = pygame.font.SysFont(pygame.font.get_default_font(), 50)\n",
    "clock = pygame.time.Clock()\n",
    "\n",
    "\n",
    "#parameters\n",
    "time = 0\n",
    "radius = 200\n",
    "draw = []\n",
    "\n",
    "#all shapes/objects rendered here\n",
    "def render():\n",
    "    screen.fill('Black') \n",
    "    time_text = font.render(str(int(time)), True, 'White')\n",
    "    screen.blit(time_text, (20,20)) \n",
    "    circle = pygame.draw.circle(screen, 'White', (origin_x,origin_y), radius, width = 1,)\n",
    "    \n",
    "    dx = -1*radius * math.cos(time)\n",
    "    dy = radius * math.sin(time)\n",
    "    draw.insert(0,(dy+origin_y))\n",
    "    \n",
    "    circle_pointer = pygame.draw.circle(screen, 'White', (origin_x+dx,origin_y+dy), 8, width = 1)\n",
    "    radial = pygame.draw.line(screen, 'White', (origin_x,origin_y), (origin_x+dx,origin_y+dy))\n",
    "\n",
    "    adjust = 400\n",
    "    for i in range(0, len(draw)):\n",
    "        graph = pygame.draw.circle(screen, 'White', (origin_x+i+adjust,draw[i]), 1, width = 1)\n",
    "    if len(draw) > 500:\n",
    "        draw.pop()\n",
    "    connect = pygame.draw.line(screen, 'White', (origin_x+dx,origin_y+dy), (origin_x+adjust,origin_y+dy))\n",
    "\n",
    "#updater\n",
    "while True:\n",
    "    for event in pygame.event.get():\n",
    "        if event.type == pygame.QUIT:\n",
    "            pygame.quit()\n",
    "            sys.exit()\n",
    "            \n",
    "    render()\n",
    "    \n",
    "    #set so timescale is 1 second\n",
    "    time+= (1/60)\n",
    "    \n",
    "    pygame.display.update()\n",
    "    \n",
    "    #framerate\n",
    "    clock.tick(60)\n",
    "\n"
   ]
  },
  {
   "cell_type": "code",
   "execution_count": null,
   "metadata": {},
   "outputs": [],
   "source": []
  },
  {
   "cell_type": "code",
   "execution_count": null,
   "metadata": {},
   "outputs": [],
   "source": []
  },
  {
   "cell_type": "code",
   "execution_count": null,
   "metadata": {},
   "outputs": [],
   "source": []
  }
 ],
 "metadata": {
  "kernelspec": {
   "display_name": "Python 3",
   "language": "python",
   "name": "python3"
  },
  "language_info": {
   "codemirror_mode": {
    "name": "ipython",
    "version": 3
   },
   "file_extension": ".py",
   "mimetype": "text/x-python",
   "name": "python",
   "nbconvert_exporter": "python",
   "pygments_lexer": "ipython3",
   "version": "3.8.5"
  }
 },
 "nbformat": 4,
 "nbformat_minor": 4
}
